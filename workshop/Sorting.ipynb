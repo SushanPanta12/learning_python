{
 "cells": [
  {
   "cell_type": "markdown",
   "metadata": {},
   "source": [
    "# Insertion Sort"
   ]
  },
  {
   "cell_type": "code",
   "execution_count": 1,
   "metadata": {},
   "outputs": [],
   "source": [
    "def insertion_sort(array):\n",
    "    \n",
    "    for x in range(0, len(array)):\n",
    "        for i in range(x, 0, -1):\n",
    "            if array[i] < array[i - 1]:\n",
    "                array[i], array[i-1] = array[i-1], array[i]\n",
    "            else:\n",
    "                break\n",
    "        \n",
    "    return array\n",
    "        "
   ]
  },
  {
   "cell_type": "code",
   "execution_count": 2,
   "metadata": {},
   "outputs": [
    {
     "name": "stdout",
     "output_type": "stream",
     "text": [
      "Unsorted array: [15, 2, 1, 12, 100, 50]\n",
      "\n",
      "Sorted array: [1, 2, 12, 15, 50, 100]\n"
     ]
    }
   ],
   "source": [
    "array = [15, 2, 1, 12 , 100, 50]\n",
    "\n",
    "print(\"Unsorted array: {}\\n\".format(array))\n",
    "\n",
    "sorted_array = insertion_sort(array)\n",
    "\n",
    "print(\"Sorted array: {}\".format(array))"
   ]
  },
  {
   "cell_type": "markdown",
   "metadata": {},
   "source": [
    "# Merge Sort"
   ]
  },
  {
   "cell_type": "code",
   "execution_count": 3,
   "metadata": {},
   "outputs": [],
   "source": [
    "def merge_sort(array):\n",
    "    # a list of zero or one elements is sorted.\n",
    "    if len(array) <=1: \n",
    "        return array\n",
    "    \n",
    "    middle = len(array) // 2\n",
    "    left = merge_sort(array[:middle])\n",
    "    right = merge_sort(array[middle:])\n",
    "    \n",
    "    result = merge(left, right)\n",
    "    \n",
    "    return result\n",
    "\n",
    "def merge(a, b):\n",
    "    c = []\n",
    "    a_idx = 0\n",
    "    b_idx = 0\n",
    "    \n",
    "    while a_idx < len(a) and b_idx < len(b):\n",
    "        if a[a_idx] < b[b_idx]:\n",
    "            c.append(a[a_idx])\n",
    "            a_idx += 1\n",
    "        elif a[a_idx] > b[b_idx]:\n",
    "            c.append(b[b_idx])\n",
    "            b_idx += 1\n",
    "        else:\n",
    "            c.append(a[a_idx])\n",
    "            c.append(b[b_idx])\n",
    "            a_idx += 1\n",
    "            b_idx += 1\n",
    "    \n",
    "    if a_idx < len(a):\n",
    "        c.extend(a[a_idx:]) \n",
    "        \n",
    "    if b_idx < len(b):\n",
    "        c.extend(b[b_idx:]) \n",
    "        \n",
    "    return c"
   ]
  },
  {
   "cell_type": "code",
   "execution_count": 4,
   "metadata": {},
   "outputs": [
    {
     "name": "stdout",
     "output_type": "stream",
     "text": [
      "Unsorted array: [15, 2, 1, 12, 100, 50]\n",
      "\n",
      "Sorted array: [1, 2, 12, 15, 50, 100]\n"
     ]
    }
   ],
   "source": [
    "array = [15, 2, 1, 12 , 100, 50]\n",
    "\n",
    "print(\"Unsorted array: {}\\n\".format(array))\n",
    "\n",
    "sorted_array = merge_sort(array)\n",
    "\n",
    "print(\"Sorted array: {}\".format(sorted_array))"
   ]
  },
  {
   "cell_type": "markdown",
   "metadata": {},
   "source": [
    "# Tim Sort"
   ]
  },
  {
   "cell_type": "code",
   "execution_count": 5,
   "metadata": {},
   "outputs": [
    {
     "name": "stdout",
     "output_type": "stream",
     "text": [
      "Unsorted array: [0, 47, 1, 24, 79, 16, 73, 96, 89, 68, 13, 29, 13, 84, 81, 80, 0, 52, 85, 12, 38, 83, 78, 15, 76, 74, 56, 17, 17, 71, 73, 13, 39, 59, 17, 26, 57, 51, 22, 96, 19, 59, 43, 66, 51, 27, 17, 65, 85, 80]\n",
      "\n",
      "Sorted array: [0, 0, 1, 12, 13, 13, 13, 15, 16, 17, 17, 17, 17, 19, 22, 24, 26, 27, 29, 38, 39, 43, 47, 51, 51, 52, 56, 57, 59, 59, 65, 66, 68, 71, 73, 73, 74, 76, 78, 79, 80, 80, 81, 83, 84, 85, 85, 89, 96, 96]\n"
     ]
    }
   ],
   "source": [
    "import random\n",
    "\n",
    "def tim_sort(array, run=32):\n",
    "    for x in range(0, len(array), run):\n",
    "        array[x:x+run] = insertion_sort(array[x:x+run])\n",
    "    \n",
    "    run_idx = run\n",
    "    \n",
    "    while run_idx < len(array):\n",
    "        \n",
    "        for x in range(0, len(array), 2*run_idx):\n",
    "            array[x:x+2*run_idx] = merge(array[x:x+run_idx], array[x+run_idx:x+2*run_idx])\n",
    "        \n",
    "        run_idx = run_idx * 2\n",
    "        \n",
    "    return array\n",
    "    \n",
    "\n",
    "array = []\n",
    "run = 5\n",
    "for x in range(0, 50):\n",
    "    array.append(random.randint(0,97))\n",
    "\n",
    "print(\"Unsorted array: {}\\n\".format(array))\n",
    "\n",
    "result = tim_sort(array, run)\n",
    "    \n",
    "print(\"Sorted array: {}\".format(result))\n"
   ]
  },
  {
   "cell_type": "code",
   "execution_count": null,
   "metadata": {},
   "outputs": [],
   "source": []
  }
 ],
 "metadata": {
  "kernelspec": {
   "display_name": "Python 3",
   "language": "python",
   "name": "python3"
  },
  "language_info": {
   "codemirror_mode": {
    "name": "ipython",
    "version": 3
   },
   "file_extension": ".py",
   "mimetype": "text/x-python",
   "name": "python",
   "nbconvert_exporter": "python",
   "pygments_lexer": "ipython3",
   "version": "3.6.5"
  }
 },
 "nbformat": 4,
 "nbformat_minor": 2
}
